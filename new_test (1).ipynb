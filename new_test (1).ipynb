{
 "cells": [
  {
   "cell_type": "code",
   "execution_count": 1,
   "id": "f9fdcd0d-ed1e-4711-b631-f3a74c4fddb4",
   "metadata": {},
   "outputs": [],
   "source": [
    "import pandas as pd \n",
    "import numpy as np\n",
    "import seaborn as sns\n",
    "from tqdm.notebook import tqdm\n",
    "import matplotlib.pyplot as plt \n"
   ]
  },
  {
   "cell_type": "code",
   "execution_count": 2,
   "id": "52358cf1-49c8-407b-aed2-6b4bf2cab57c",
   "metadata": {},
   "outputs": [],
   "source": [
    "# ТЗ \n",
    "## Поле\tОписание\n",
    "## event_id\tидентификатор урока\n",
    "## event_date\tдата урока\n",
    "## customer_id\tидентификатор ученика\n",
    "## is_attend\t1 — посетил, 0 — пропустил\n",
    "## group_ids\tидентификатор группы\n",
    "## teacher_ids\tидентификатор преподавателя\n",
    "## attendance_id\tидентификатор строки"
   ]
  },
  {
   "cell_type": "code",
   "execution_count": 3,
   "id": "46882269-a5ef-41f3-aa73-e8403eb5178f",
   "metadata": {},
   "outputs": [
    {
     "data": {
      "text/html": [
       "<div>\n",
       "<style scoped>\n",
       "    .dataframe tbody tr th:only-of-type {\n",
       "        vertical-align: middle;\n",
       "    }\n",
       "\n",
       "    .dataframe tbody tr th {\n",
       "        vertical-align: top;\n",
       "    }\n",
       "\n",
       "    .dataframe thead th {\n",
       "        text-align: right;\n",
       "    }\n",
       "</style>\n",
       "<table border=\"1\" class=\"dataframe\">\n",
       "  <thead>\n",
       "    <tr style=\"text-align: right;\">\n",
       "      <th></th>\n",
       "      <th>event_id</th>\n",
       "      <th>event_date</th>\n",
       "      <th>customer_id</th>\n",
       "      <th>is_attend</th>\n",
       "      <th>group_ids</th>\n",
       "      <th>teacher_ids</th>\n",
       "      <th>attendance_id</th>\n",
       "    </tr>\n",
       "  </thead>\n",
       "  <tbody>\n",
       "    <tr>\n",
       "      <th>0</th>\n",
       "      <td>5</td>\n",
       "      <td>2020-05-22</td>\n",
       "      <td>47</td>\n",
       "      <td>1</td>\n",
       "      <td>2</td>\n",
       "      <td>6</td>\n",
       "      <td>12</td>\n",
       "    </tr>\n",
       "    <tr>\n",
       "      <th>1</th>\n",
       "      <td>15</td>\n",
       "      <td>2020-06-03</td>\n",
       "      <td>354</td>\n",
       "      <td>1</td>\n",
       "      <td>5</td>\n",
       "      <td>4</td>\n",
       "      <td>57</td>\n",
       "    </tr>\n",
       "    <tr>\n",
       "      <th>2</th>\n",
       "      <td>34</td>\n",
       "      <td>2020-06-17</td>\n",
       "      <td>183</td>\n",
       "      <td>1</td>\n",
       "      <td>5</td>\n",
       "      <td>4</td>\n",
       "      <td>158</td>\n",
       "    </tr>\n",
       "    <tr>\n",
       "      <th>3</th>\n",
       "      <td>22</td>\n",
       "      <td>2020-06-11</td>\n",
       "      <td>12</td>\n",
       "      <td>1</td>\n",
       "      <td>1</td>\n",
       "      <td>3</td>\n",
       "      <td>95</td>\n",
       "    </tr>\n",
       "    <tr>\n",
       "      <th>4</th>\n",
       "      <td>36</td>\n",
       "      <td>2020-06-19</td>\n",
       "      <td>260</td>\n",
       "      <td>1</td>\n",
       "      <td>5</td>\n",
       "      <td>4</td>\n",
       "      <td>185</td>\n",
       "    </tr>\n",
       "  </tbody>\n",
       "</table>\n",
       "</div>"
      ],
      "text/plain": [
       "   event_id event_date  customer_id  is_attend  group_ids  teacher_ids  \\\n",
       "0         5 2020-05-22           47          1          2            6   \n",
       "1        15 2020-06-03          354          1          5            4   \n",
       "2        34 2020-06-17          183          1          5            4   \n",
       "3        22 2020-06-11           12          1          1            3   \n",
       "4        36 2020-06-19          260          1          5            4   \n",
       "\n",
       "   attendance_id  \n",
       "0             12  \n",
       "1             57  \n",
       "2            158  \n",
       "3             95  \n",
       "4            185  "
      ]
     },
     "execution_count": 3,
     "metadata": {},
     "output_type": "execute_result"
    }
   ],
   "source": [
    "t = pd.read_excel(r\"C:\\Users\\Sasha\\Downloads\\Копия Аналитик — тестовое задание.xlsx\")\n",
    "t.head()"
   ]
  },
  {
   "cell_type": "markdown",
   "id": "fbaaf45a-ab16-4246-84a1-9f76ded044b3",
   "metadata": {},
   "source": [
    "# Проведем быстро анализ "
   ]
  },
  {
   "cell_type": "code",
   "execution_count": 4,
   "id": "6aff9ab7-53e5-49ab-bb23-b7af4ef215df",
   "metadata": {},
   "outputs": [
    {
     "data": {
      "text/plain": [
       "np.int64(0)"
      ]
     },
     "execution_count": 4,
     "metadata": {},
     "output_type": "execute_result"
    }
   ],
   "source": [
    "# Проверим сразу есть ли дубли\n",
    "np.sum(t.duplicated())\n",
    "# Отлично дублей нет "
   ]
  },
  {
   "cell_type": "code",
   "execution_count": 5,
   "id": "c9decc51-2834-4bb6-9503-98427a25c1f9",
   "metadata": {},
   "outputs": [
    {
     "name": "stdout",
     "output_type": "stream",
     "text": [
      "<class 'pandas.core.frame.DataFrame'>\n",
      "RangeIndex: 320 entries, 0 to 319\n",
      "Data columns (total 7 columns):\n",
      " #   Column         Non-Null Count  Dtype         \n",
      "---  ------         --------------  -----         \n",
      " 0   event_id       320 non-null    int64         \n",
      " 1   event_date     320 non-null    datetime64[ns]\n",
      " 2   customer_id    320 non-null    int64         \n",
      " 3   is_attend      320 non-null    int64         \n",
      " 4   group_ids      320 non-null    int64         \n",
      " 5   teacher_ids    320 non-null    int64         \n",
      " 6   attendance_id  320 non-null    int64         \n",
      "dtypes: datetime64[ns](1), int64(6)\n",
      "memory usage: 17.6 KB\n"
     ]
    }
   ],
   "source": [
    "t.info()\n",
    "# Так ну по типам нас все устроивает"
   ]
  },
  {
   "cell_type": "code",
   "execution_count": 6,
   "id": "387dc080-3ea4-489b-88ec-20ce722e9b49",
   "metadata": {},
   "outputs": [
    {
     "data": {
      "text/plain": [
       "event_id          62\n",
       "event_date        41\n",
       "customer_id       51\n",
       "is_attend          2\n",
       "group_ids          4\n",
       "teacher_ids        5\n",
       "attendance_id    320\n",
       "dtype: int64"
      ]
     },
     "execution_count": 6,
     "metadata": {},
     "output_type": "execute_result"
    }
   ],
   "source": [
    "# Посмотрим сколько у нас уникальных значений по таблице\n",
    "t.nunique()"
   ]
  },
  {
   "cell_type": "code",
   "execution_count": 7,
   "id": "1474dae1-0918-43f8-be36-13e1fc981ece",
   "metadata": {},
   "outputs": [
    {
     "data": {
      "text/html": [
       "<div>\n",
       "<style scoped>\n",
       "    .dataframe tbody tr th:only-of-type {\n",
       "        vertical-align: middle;\n",
       "    }\n",
       "\n",
       "    .dataframe tbody tr th {\n",
       "        vertical-align: top;\n",
       "    }\n",
       "\n",
       "    .dataframe thead th {\n",
       "        text-align: right;\n",
       "    }\n",
       "</style>\n",
       "<table border=\"1\" class=\"dataframe\">\n",
       "  <thead>\n",
       "    <tr style=\"text-align: right;\">\n",
       "      <th></th>\n",
       "      <th>event_id</th>\n",
       "      <th>event_date</th>\n",
       "      <th>customer_id</th>\n",
       "      <th>is_attend</th>\n",
       "      <th>group_ids</th>\n",
       "      <th>teacher_ids</th>\n",
       "      <th>attendance_id</th>\n",
       "    </tr>\n",
       "  </thead>\n",
       "  <tbody>\n",
       "    <tr>\n",
       "      <th>0</th>\n",
       "      <td>4</td>\n",
       "      <td>2020-05-21</td>\n",
       "      <td>37</td>\n",
       "      <td>1</td>\n",
       "      <td>3</td>\n",
       "      <td>5</td>\n",
       "      <td>4</td>\n",
       "    </tr>\n",
       "    <tr>\n",
       "      <th>1</th>\n",
       "      <td>3</td>\n",
       "      <td>2020-05-21</td>\n",
       "      <td>94</td>\n",
       "      <td>1</td>\n",
       "      <td>1</td>\n",
       "      <td>3</td>\n",
       "      <td>6</td>\n",
       "    </tr>\n",
       "    <tr>\n",
       "      <th>2</th>\n",
       "      <td>4</td>\n",
       "      <td>2020-05-21</td>\n",
       "      <td>30</td>\n",
       "      <td>1</td>\n",
       "      <td>3</td>\n",
       "      <td>5</td>\n",
       "      <td>1</td>\n",
       "    </tr>\n",
       "    <tr>\n",
       "      <th>3</th>\n",
       "      <td>3</td>\n",
       "      <td>2020-05-21</td>\n",
       "      <td>197</td>\n",
       "      <td>1</td>\n",
       "      <td>1</td>\n",
       "      <td>3</td>\n",
       "      <td>5</td>\n",
       "    </tr>\n",
       "    <tr>\n",
       "      <th>4</th>\n",
       "      <td>3</td>\n",
       "      <td>2020-05-21</td>\n",
       "      <td>12</td>\n",
       "      <td>1</td>\n",
       "      <td>1</td>\n",
       "      <td>3</td>\n",
       "      <td>8</td>\n",
       "    </tr>\n",
       "  </tbody>\n",
       "</table>\n",
       "</div>"
      ],
      "text/plain": [
       "   event_id event_date  customer_id  is_attend  group_ids  teacher_ids  \\\n",
       "0         4 2020-05-21           37          1          3            5   \n",
       "1         3 2020-05-21           94          1          1            3   \n",
       "2         4 2020-05-21           30          1          3            5   \n",
       "3         3 2020-05-21          197          1          1            3   \n",
       "4         3 2020-05-21           12          1          1            3   \n",
       "\n",
       "   attendance_id  \n",
       "0              4  \n",
       "1              6  \n",
       "2              1  \n",
       "3              5  \n",
       "4              8  "
      ]
     },
     "execution_count": 7,
     "metadata": {},
     "output_type": "execute_result"
    }
   ],
   "source": [
    "t = t.sort_values(by=\"event_date\", ascending=True).reset_index(drop = True)\n",
    "t.head()"
   ]
  },
  {
   "cell_type": "markdown",
   "id": "b881c075-fed4-42ea-9a86-addd23c67e07",
   "metadata": {},
   "source": [
    "### Посмотрим по датам сколько людей ходит на пары и сколько людей отсутствует, сделаем в процентном соотношении это"
   ]
  },
  {
   "cell_type": "code",
   "execution_count": 8,
   "id": "b5fcfb17-7b3a-41ba-8e04-f18e7d80ef58",
   "metadata": {},
   "outputs": [
    {
     "data": {
      "text/html": [
       "<div>\n",
       "<style scoped>\n",
       "    .dataframe tbody tr th:only-of-type {\n",
       "        vertical-align: middle;\n",
       "    }\n",
       "\n",
       "    .dataframe tbody tr th {\n",
       "        vertical-align: top;\n",
       "    }\n",
       "\n",
       "    .dataframe thead th {\n",
       "        text-align: right;\n",
       "    }\n",
       "</style>\n",
       "<table border=\"1\" class=\"dataframe\">\n",
       "  <thead>\n",
       "    <tr style=\"text-align: right;\">\n",
       "      <th></th>\n",
       "      <th>event_date</th>\n",
       "      <th>appear_at_class</th>\n",
       "      <th>all_pupils</th>\n",
       "      <th>appear_rate</th>\n",
       "    </tr>\n",
       "  </thead>\n",
       "  <tbody>\n",
       "    <tr>\n",
       "      <th>0</th>\n",
       "      <td>2020-05-21</td>\n",
       "      <td>8</td>\n",
       "      <td>8</td>\n",
       "      <td>100.0</td>\n",
       "    </tr>\n",
       "    <tr>\n",
       "      <th>1</th>\n",
       "      <td>2020-05-22</td>\n",
       "      <td>4</td>\n",
       "      <td>4</td>\n",
       "      <td>100.0</td>\n",
       "    </tr>\n",
       "    <tr>\n",
       "      <th>2</th>\n",
       "      <td>2020-05-23</td>\n",
       "      <td>4</td>\n",
       "      <td>4</td>\n",
       "      <td>100.0</td>\n",
       "    </tr>\n",
       "    <tr>\n",
       "      <th>3</th>\n",
       "      <td>2020-05-25</td>\n",
       "      <td>3</td>\n",
       "      <td>4</td>\n",
       "      <td>75.0</td>\n",
       "    </tr>\n",
       "    <tr>\n",
       "      <th>4</th>\n",
       "      <td>2020-05-26</td>\n",
       "      <td>4</td>\n",
       "      <td>4</td>\n",
       "      <td>100.0</td>\n",
       "    </tr>\n",
       "  </tbody>\n",
       "</table>\n",
       "</div>"
      ],
      "text/plain": [
       "  event_date  appear_at_class  all_pupils  appear_rate\n",
       "0 2020-05-21                8           8        100.0\n",
       "1 2020-05-22                4           4        100.0\n",
       "2 2020-05-23                4           4        100.0\n",
       "3 2020-05-25                3           4         75.0\n",
       "4 2020-05-26                4           4        100.0"
      ]
     },
     "execution_count": 8,
     "metadata": {},
     "output_type": "execute_result"
    }
   ],
   "source": [
    "# Посмотрим скок людей ходило на пару по дням\n",
    "lesson_attendance = t[[\"event_date\", \"is_attend\"]].groupby(by=\"event_date\")[\"is_attend\"].agg(['sum', 'count']).reset_index()\n",
    "lesson_attendance = lesson_attendance.rename(columns = {\n",
    "    \"event_date\": \"event_date\",\n",
    "    \"sum\": \"appear_at_class\",\n",
    "    \"count\": \"all_pupils\"\n",
    "})\n",
    "lesson_attendance[\"appear_rate\"] = (lesson_attendance[\"appear_at_class\"] / lesson_attendance[\"all_pupils\"]) * 100\n",
    "lesson_attendance.head()"
   ]
  },
  {
   "cell_type": "code",
   "execution_count": 9,
   "id": "643c385c-1309-4d6f-a0ba-c6d877136281",
   "metadata": {},
   "outputs": [
    {
     "data": {
      "image/png": "[encoded data removed]",
      "text/plain": [
       "<Figure size 640x480 with 1 Axes>"
      ]
     },
     "metadata": {},
     "output_type": "display_data"
    }
   ],
   "source": [
    "# Теперь изобразим эту посещаемость \n",
    "plt.plot(lesson_attendance.event_date, lesson_attendance.appear_at_class)\n",
    "plt.xticks(rotation=45)\n",
    "plt.tight_layout()\n",
    "plt.show()"
   ]
  },
  {
   "cell_type": "code",
   "execution_count": 10,
   "id": "7d69af65-51ee-465a-b95c-c3c58fc18f4f",
   "metadata": {},
   "outputs": [
    {
     "data": {
      "text/html": [
       "<div>\n",
       "<style scoped>\n",
       "    .dataframe tbody tr th:only-of-type {\n",
       "        vertical-align: middle;\n",
       "    }\n",
       "\n",
       "    .dataframe tbody tr th {\n",
       "        vertical-align: top;\n",
       "    }\n",
       "\n",
       "    .dataframe thead th {\n",
       "        text-align: right;\n",
       "    }\n",
       "</style>\n",
       "<table border=\"1\" class=\"dataframe\">\n",
       "  <thead>\n",
       "    <tr style=\"text-align: right;\">\n",
       "      <th></th>\n",
       "      <th>group_ids</th>\n",
       "      <th>customer_id</th>\n",
       "    </tr>\n",
       "  </thead>\n",
       "  <tbody>\n",
       "    <tr>\n",
       "      <th>0</th>\n",
       "      <td>1</td>\n",
       "      <td>12</td>\n",
       "    </tr>\n",
       "    <tr>\n",
       "      <th>1</th>\n",
       "      <td>2</td>\n",
       "      <td>10</td>\n",
       "    </tr>\n",
       "    <tr>\n",
       "      <th>2</th>\n",
       "      <td>3</td>\n",
       "      <td>11</td>\n",
       "    </tr>\n",
       "    <tr>\n",
       "      <th>3</th>\n",
       "      <td>5</td>\n",
       "      <td>19</td>\n",
       "    </tr>\n",
       "  </tbody>\n",
       "</table>\n",
       "</div>"
      ],
      "text/plain": [
       "   group_ids  customer_id\n",
       "0          1           12\n",
       "1          2           10\n",
       "2          3           11\n",
       "3          5           19"
      ]
     },
     "execution_count": 10,
     "metadata": {},
     "output_type": "execute_result"
    }
   ],
   "source": [
    "# Теперь давайте посмотрим сколько людей находится в одной группе и также проиллюстрируем это \n",
    "cnt_group_people = t.groupby(by = \"group_ids\")[\"customer_id\"].nunique().reset_index()\n",
    "cnt_group_people"
   ]
  },
  {
   "cell_type": "code",
   "execution_count": 11,
   "id": "013534d0-0f1f-44b8-a3df-53432c4bbda7",
   "metadata": {},
   "outputs": [
    {
     "data": {
      "image/png": "[encoded data removed]",
      "text/plain": [
       "<Figure size 640x480 with 1 Axes>"
      ]
     },
     "metadata": {},
     "output_type": "display_data"
    }
   ],
   "source": [
    "plt.bar(cnt_group_people.group_ids, cnt_group_people.customer_id)\n",
    "plt.yticks(np.arange(1, max(cnt_group_people.customer_id) + 1, 2)) \n",
    "\n",
    "plt.xlabel('group_ids')\n",
    "plt.ylabel('cnt_customer')\n",
    "\n",
    "plt.show()"
   ]
  },
  {
   "cell_type": "markdown",
   "id": "1673884d-8051-4beb-b81d-755af1de3500",
   "metadata": {},
   "source": [
    "## Можно визуализировать это сколько учитель суммарно провел пар, давайте изобразим и это"
   ]
  },
  {
   "cell_type": "code",
   "execution_count": 12,
   "id": "d5492460-853d-4a05-af61-8fc58a45bb6b",
   "metadata": {},
   "outputs": [
    {
     "data": {
      "text/html": [
       "<div>\n",
       "<style scoped>\n",
       "    .dataframe tbody tr th:only-of-type {\n",
       "        vertical-align: middle;\n",
       "    }\n",
       "\n",
       "    .dataframe tbody tr th {\n",
       "        vertical-align: top;\n",
       "    }\n",
       "\n",
       "    .dataframe thead th {\n",
       "        text-align: right;\n",
       "    }\n",
       "</style>\n",
       "<table border=\"1\" class=\"dataframe\">\n",
       "  <thead>\n",
       "    <tr style=\"text-align: right;\">\n",
       "      <th></th>\n",
       "      <th>teacher_ids</th>\n",
       "      <th>event_id</th>\n",
       "    </tr>\n",
       "  </thead>\n",
       "  <tbody>\n",
       "    <tr>\n",
       "      <th>0</th>\n",
       "      <td>3</td>\n",
       "      <td>68</td>\n",
       "    </tr>\n",
       "    <tr>\n",
       "      <th>1</th>\n",
       "      <td>4</td>\n",
       "      <td>120</td>\n",
       "    </tr>\n",
       "    <tr>\n",
       "      <th>2</th>\n",
       "      <td>5</td>\n",
       "      <td>70</td>\n",
       "    </tr>\n",
       "    <tr>\n",
       "      <th>3</th>\n",
       "      <td>6</td>\n",
       "      <td>51</td>\n",
       "    </tr>\n",
       "    <tr>\n",
       "      <th>4</th>\n",
       "      <td>7</td>\n",
       "      <td>11</td>\n",
       "    </tr>\n",
       "  </tbody>\n",
       "</table>\n",
       "</div>"
      ],
      "text/plain": [
       "   teacher_ids  event_id\n",
       "0            3        68\n",
       "1            4       120\n",
       "2            5        70\n",
       "3            6        51\n",
       "4            7        11"
      ]
     },
     "execution_count": 12,
     "metadata": {},
     "output_type": "execute_result"
    }
   ],
   "source": [
    "cnt_lesson_teach = t.groupby(by = \"teacher_ids\")[\"event_id\"].count().reset_index()\n",
    "cnt_lesson_teach"
   ]
  },
  {
   "cell_type": "code",
   "execution_count": 13,
   "id": "9254647e-a2e0-45ab-92e7-03b97e5d345c",
   "metadata": {},
   "outputs": [
    {
     "data": {
      "text/plain": [
       "<BarContainer object of 5 artists>"
      ]
     },
     "execution_count": 13,
     "metadata": {},
     "output_type": "execute_result"
    },
    {
     "data": {
      "image/png": "[encoded data removed]",
      "text/plain": [
       "<Figure size 640x480 with 1 Axes>"
      ]
     },
     "metadata": {},
     "output_type": "display_data"
    }
   ],
   "source": [
    "plt.bar(cnt_lesson_teach.teacher_ids, cnt_lesson_teach.event_id)"
   ]
  },
  {
   "cell_type": "code",
   "execution_count": null,
   "id": "1990b022-fce3-4603-94bc-87b368de283c",
   "metadata": {},
   "outputs": [],
   "source": []
  },
  {
   "cell_type": "code",
   "execution_count": 65,
   "id": "8e07fade-a8f1-4999-8985-79384f40d593",
   "metadata": {},
   "outputs": [
    {
     "data": {
      "image/png": "[encoded data removed]",
      "text/plain": [
       "<Figure size 640x480 with 1 Axes>"
      ]
     },
     "metadata": {},
     "output_type": "display_data"
    }
   ],
   "source": [
    "# Посмотрим сколько в отдельности каждый препод провел пар в день\n",
    "grouped = t.groupby(['event_date', 'teacher_ids'])['event_id'].count().unstack(fill_value=0)\n",
    "\n",
    "event_dates = grouped.index\n",
    "grouped = grouped.reset_index(drop=True)\n",
    "\n",
    "fig, ax = plt.subplots()\n",
    "\n",
    "bottom = np.zeros(len(grouped))\n",
    "\n",
    "for teacher_id in grouped.columns:\n",
    "    ax.bar(np.arange(len(grouped)), grouped[teacher_id], label=f'Teacher {teacher_id}', bottom=bottom)\n",
    "    bottom += grouped[teacher_id]\n",
    "\n",
    "# Настраиваем график\n",
    "ax.set_xlabel('Event Date')\n",
    "ax.set_ylabel('Total Lessons')\n",
    "ax.set_title('Stacked Bar Chart of Lessons by Teacher and Date')\n",
    "ax.legend()\n",
    "\n",
    "plt.xticks(np.arange(len(event_dates)), [date.strftime('%Y-%m-%d') for date in event_dates], rotation=90)\n",
    "plt.yticks(np.arange(0, 22, 1))\n",
    "\n",
    "plt.tight_layout()\n",
    "plt.show()"
   ]
  },
  {
   "cell_type": "code",
   "execution_count": 75,
   "id": "29b0d68d-30f2-4e36-89f0-eca52b3b9df6",
   "metadata": {},
   "outputs": [
    {
     "data": {
      "text/html": [
       "<div>\n",
       "<style scoped>\n",
       "    .dataframe tbody tr th:only-of-type {\n",
       "        vertical-align: middle;\n",
       "    }\n",
       "\n",
       "    .dataframe tbody tr th {\n",
       "        vertical-align: top;\n",
       "    }\n",
       "\n",
       "    .dataframe thead th {\n",
       "        text-align: right;\n",
       "    }\n",
       "</style>\n",
       "<table border=\"1\" class=\"dataframe\">\n",
       "  <thead>\n",
       "    <tr style=\"text-align: right;\">\n",
       "      <th></th>\n",
       "      <th>customer_id</th>\n",
       "      <th>event_id</th>\n",
       "    </tr>\n",
       "  </thead>\n",
       "  <tbody>\n",
       "    <tr>\n",
       "      <th>47</th>\n",
       "      <td>654</td>\n",
       "      <td>1</td>\n",
       "    </tr>\n",
       "    <tr>\n",
       "      <th>6</th>\n",
       "      <td>42</td>\n",
       "      <td>2</td>\n",
       "    </tr>\n",
       "    <tr>\n",
       "      <th>4</th>\n",
       "      <td>36</td>\n",
       "      <td>2</td>\n",
       "    </tr>\n",
       "    <tr>\n",
       "      <th>7</th>\n",
       "      <td>47</td>\n",
       "      <td>2</td>\n",
       "    </tr>\n",
       "    <tr>\n",
       "      <th>12</th>\n",
       "      <td>135</td>\n",
       "      <td>2</td>\n",
       "    </tr>\n",
       "  </tbody>\n",
       "</table>\n",
       "</div>"
      ],
      "text/plain": [
       "    customer_id  event_id\n",
       "47          654         1\n",
       "6            42         2\n",
       "4            36         2\n",
       "7            47         2\n",
       "12          135         2"
      ]
     },
     "execution_count": 75,
     "metadata": {},
     "output_type": "execute_result"
    }
   ],
   "source": [
    "# Посмотрим сколько в отдельности каждый студент сходил на пары\n",
    "y =t.groupby(by = \"customer_id\")[\"event_id\"].count().reset_index().sort_values(by = \"event_id\")\n",
    "y.head()"
   ]
  },
  {
   "cell_type": "code",
   "execution_count": 95,
   "id": "d7004a99-99d9-45f8-8fb4-de6feff54cd1",
   "metadata": {},
   "outputs": [
    {
     "data": {
      "image/png": "[encoded data removed]",
      "text/plain": [
       "<Figure size 640x480 with 1 Axes>"
      ]
     },
     "metadata": {},
     "output_type": "display_data"
    }
   ],
   "source": [
    "width = 0.8\n",
    "plt.bar(np.arange(len(y)), y.event_id, width=width)\n",
    "N = 5  \n",
    "plt.xticks(np.arange(0, len(y), N), y.customer_id[::N], rotation=90) \n",
    "plt.xlabel(\"customer_id\")\n",
    "plt.ylabel(\"event_id\")\n",
    "plt.title(\"Количество посещений по каждому студенту\")\n",
    "plt.tight_layout()\n",
    "plt.show()"
   ]
  },
  {
   "cell_type": "code",
   "execution_count": null,
   "id": "6463f559-31c5-4b48-927f-8e0240fd076a",
   "metadata": {},
   "outputs": [],
   "source": []
  }
 ],
 "metadata": {
  "kernelspec": {
   "display_name": "Python 3 (ipykernel)",
   "language": "python",
   "name": "python3"
  },
  "language_info": {
   "codemirror_mode": {
    "name": "ipython",
    "version": 3
   },
   "file_extension": ".py",
   "mimetype": "text/x-python",
   "name": "python",
   "nbconvert_exporter": "python",
   "pygments_lexer": "ipython3",
   "version": "3.12.2"
  }
 },
 "nbformat": 4,
 "nbformat_minor": 5
}
